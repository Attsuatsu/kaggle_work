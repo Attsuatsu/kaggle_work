{
  "nbformat": 4,
  "nbformat_minor": 0,
  "metadata": {
    "colab": {
      "provenance": []
    },
    "kernelspec": {
      "name": "python3",
      "display_name": "Python 3"
    },
    "language_info": {
      "name": "python"
    }
  },
  "cells": [
    {
      "cell_type": "markdown",
      "source": [
        "モジュールインポート"
      ],
      "metadata": {
        "id": "7TcqDe0vaOEc"
      }
    },
    {
      "cell_type": "code",
      "source": [
        "from sklearn.model_selection import KFold\n",
        "from sklearn.metrics import mean_squared_error\n",
        "import lightgbm as lgb\n",
        "import matplotlib.pyplot as plt\n",
        "import seaborn as sns\n",
        "import numpy as np\n",
        "import pandas as pd"
      ],
      "metadata": {
        "id": "IGs4BiAmLlB8"
      },
      "execution_count": null,
      "outputs": []
    },
    {
      "cell_type": "markdown",
      "source": [
        "データの読み込み"
      ],
      "metadata": {
        "id": "L2Ym1hJ5aJAk"
      }
    },
    {
      "cell_type": "code",
      "execution_count": null,
      "metadata": {
        "id": "wuReGjApZQBW"
      },
      "outputs": [],
      "source": [
        "df_test = pd.read_csv('/content/sample_data/test.csv')\n",
        "df_train = pd.read_csv('/content/sample_data/train.csv')"
      ]
    },
    {
      "cell_type": "code",
      "source": [
        "df_train.info()"
      ],
      "metadata": {
        "colab": {
          "base_uri": "https://localhost:8080/"
        },
        "id": "G9QShmNcrdzq",
        "outputId": "fc575fd0-3ad2-4784-afa0-0fe34fcb3e0d"
      },
      "execution_count": null,
      "outputs": [
        {
          "output_type": "stream",
          "name": "stdout",
          "text": [
            "<class 'pandas.core.frame.DataFrame'>\n",
            "RangeIndex: 517754 entries, 0 to 517753\n",
            "Data columns (total 21 columns):\n",
            " #   Column                  Non-Null Count   Dtype  \n",
            "---  ------                  --------------   -----  \n",
            " 0   id                      517754 non-null  int64  \n",
            " 1   road_type               517754 non-null  object \n",
            " 2   num_lanes               517754 non-null  int64  \n",
            " 3   curvature               517754 non-null  float64\n",
            " 4   speed_limit             517754 non-null  int64  \n",
            " 5   lighting                517754 non-null  object \n",
            " 6   weather                 517754 non-null  object \n",
            " 7   road_signs_present      517754 non-null  bool   \n",
            " 8   public_road             517754 non-null  bool   \n",
            " 9   time_of_day             517754 non-null  object \n",
            " 10  holiday                 517754 non-null  bool   \n",
            " 11  school_season           517754 non-null  bool   \n",
            " 12  num_reported_accidents  517754 non-null  int64  \n",
            " 13  accident_risk           517754 non-null  float64\n",
            " 14  curvature_squared       517754 non-null  float64\n",
            " 15  speed_curvature_ratio   517754 non-null  float64\n",
            " 16  lanes_speed             517754 non-null  int64  \n",
            " 17  accidents_per_lane      517754 non-null  float64\n",
            " 18  night_dark              517754 non-null  int64  \n",
            " 19  holiday_night           517754 non-null  int64  \n",
            " 20  school_season_night     517754 non-null  int64  \n",
            "dtypes: bool(4), float64(5), int64(8), object(4)\n",
            "memory usage: 69.1+ MB\n"
          ]
        }
      ]
    },
    {
      "cell_type": "code",
      "source": [
        "df_test.info()"
      ],
      "metadata": {
        "colab": {
          "base_uri": "https://localhost:8080/"
        },
        "id": "f3-n6aN28Tlo",
        "outputId": "826ca4ae-8b9e-41c7-a8c2-c145e4b4a78b"
      },
      "execution_count": null,
      "outputs": [
        {
          "output_type": "stream",
          "name": "stdout",
          "text": [
            "<class 'pandas.core.frame.DataFrame'>\n",
            "RangeIndex: 172585 entries, 0 to 172584\n",
            "Data columns (total 20 columns):\n",
            " #   Column                  Non-Null Count   Dtype  \n",
            "---  ------                  --------------   -----  \n",
            " 0   id                      172585 non-null  int64  \n",
            " 1   road_type               172585 non-null  object \n",
            " 2   num_lanes               172585 non-null  int64  \n",
            " 3   curvature               172585 non-null  float64\n",
            " 4   speed_limit             172585 non-null  int64  \n",
            " 5   lighting                172585 non-null  object \n",
            " 6   weather                 172585 non-null  object \n",
            " 7   road_signs_present      172585 non-null  bool   \n",
            " 8   public_road             172585 non-null  bool   \n",
            " 9   time_of_day             172585 non-null  object \n",
            " 10  holiday                 172585 non-null  bool   \n",
            " 11  school_season           172585 non-null  bool   \n",
            " 12  num_reported_accidents  172585 non-null  int64  \n",
            " 13  curvature_squared       172585 non-null  float64\n",
            " 14  speed_curvature_ratio   172585 non-null  float64\n",
            " 15  lanes_speed             172585 non-null  int64  \n",
            " 16  accidents_per_lane      172585 non-null  float64\n",
            " 17  night_dark              172585 non-null  int64  \n",
            " 18  holiday_night           172585 non-null  int64  \n",
            " 19  school_season_night     172585 non-null  int64  \n",
            "dtypes: bool(4), float64(4), int64(8), object(4)\n",
            "memory usage: 21.7+ MB\n"
          ]
        }
      ]
    },
    {
      "cell_type": "code",
      "source": [
        "print(df_train.columns.tolist())"
      ],
      "metadata": {
        "colab": {
          "base_uri": "https://localhost:8080/"
        },
        "id": "6l5WkB1GTj0v",
        "outputId": "a774a808-4bf8-47eb-f976-b140249ec5c1"
      },
      "execution_count": null,
      "outputs": [
        {
          "output_type": "stream",
          "name": "stdout",
          "text": [
            "['id', 'road_type', 'num_lanes', 'curvature', 'speed_limit', 'lighting', 'weather', 'road_signs_present', 'public_road', 'time_of_day', 'holiday', 'school_season', 'num_reported_accidents', 'accident_risk']\n"
          ]
        }
      ]
    },
    {
      "cell_type": "markdown",
      "source": [
        "### 特徴量エンジニアリング"
      ],
      "metadata": {
        "id": "sQhyBSmmrC42"
      }
    },
    {
      "cell_type": "code",
      "source": [
        "df_train.head()"
      ],
      "metadata": {
        "colab": {
          "base_uri": "https://localhost:8080/",
          "height": 255
        },
        "id": "4pliniauy2Xp",
        "outputId": "253f0573-8742-4621-9382-5d4cf981afe9"
      },
      "execution_count": null,
      "outputs": [
        {
          "output_type": "execute_result",
          "data": {
            "text/plain": [
              "   id road_type  num_lanes  curvature  speed_limit  lighting weather  \\\n",
              "0   0     urban          2       0.06           35  daylight   rainy   \n",
              "1   1     urban          4       0.99           35  daylight   clear   \n",
              "2   2     rural          4       0.63           70       dim   clear   \n",
              "3   3   highway          4       0.07           35       dim   rainy   \n",
              "4   4     rural          1       0.58           60  daylight   foggy   \n",
              "\n",
              "   road_signs_present  public_road time_of_day  ...  school_season  \\\n",
              "0               False         True   afternoon  ...           True   \n",
              "1                True        False     evening  ...           True   \n",
              "2               False         True     morning  ...          False   \n",
              "3                True         True     morning  ...          False   \n",
              "4               False        False     evening  ...          False   \n",
              "\n",
              "   num_reported_accidents  accident_risk  curvature_squared  \\\n",
              "0                       1           0.13             0.0036   \n",
              "1                       0           0.35             0.9801   \n",
              "2                       2           0.30             0.3969   \n",
              "3                       1           0.21             0.0049   \n",
              "4                       1           0.56             0.3364   \n",
              "\n",
              "   speed_curvature_ratio  lanes_speed  accidents_per_lane  night_dark  \\\n",
              "0             583.236127           70            0.333333           0   \n",
              "1              35.353178          140            0.000000           0   \n",
              "2             111.109347          280            0.400000           0   \n",
              "3             499.928582          140            0.200000           0   \n",
              "4             103.446492           60            0.500000           0   \n",
              "\n",
              "   holiday_night  school_season_night  \n",
              "0              0                    0  \n",
              "1              0                    0  \n",
              "2              0                    0  \n",
              "3              0                    0  \n",
              "4              0                    0  \n",
              "\n",
              "[5 rows x 21 columns]"
            ],
            "text/html": [
              "\n",
              "  <div id=\"df-e3f40278-0fc1-4704-94c8-e92de15c3f42\" class=\"colab-df-container\">\n",
              "    <div>\n",
              "<style scoped>\n",
              "    .dataframe tbody tr th:only-of-type {\n",
              "        vertical-align: middle;\n",
              "    }\n",
              "\n",
              "    .dataframe tbody tr th {\n",
              "        vertical-align: top;\n",
              "    }\n",
              "\n",
              "    .dataframe thead th {\n",
              "        text-align: right;\n",
              "    }\n",
              "</style>\n",
              "<table border=\"1\" class=\"dataframe\">\n",
              "  <thead>\n",
              "    <tr style=\"text-align: right;\">\n",
              "      <th></th>\n",
              "      <th>id</th>\n",
              "      <th>road_type</th>\n",
              "      <th>num_lanes</th>\n",
              "      <th>curvature</th>\n",
              "      <th>speed_limit</th>\n",
              "      <th>lighting</th>\n",
              "      <th>weather</th>\n",
              "      <th>road_signs_present</th>\n",
              "      <th>public_road</th>\n",
              "      <th>time_of_day</th>\n",
              "      <th>...</th>\n",
              "      <th>school_season</th>\n",
              "      <th>num_reported_accidents</th>\n",
              "      <th>accident_risk</th>\n",
              "      <th>curvature_squared</th>\n",
              "      <th>speed_curvature_ratio</th>\n",
              "      <th>lanes_speed</th>\n",
              "      <th>accidents_per_lane</th>\n",
              "      <th>night_dark</th>\n",
              "      <th>holiday_night</th>\n",
              "      <th>school_season_night</th>\n",
              "    </tr>\n",
              "  </thead>\n",
              "  <tbody>\n",
              "    <tr>\n",
              "      <th>0</th>\n",
              "      <td>0</td>\n",
              "      <td>urban</td>\n",
              "      <td>2</td>\n",
              "      <td>0.06</td>\n",
              "      <td>35</td>\n",
              "      <td>daylight</td>\n",
              "      <td>rainy</td>\n",
              "      <td>False</td>\n",
              "      <td>True</td>\n",
              "      <td>afternoon</td>\n",
              "      <td>...</td>\n",
              "      <td>True</td>\n",
              "      <td>1</td>\n",
              "      <td>0.13</td>\n",
              "      <td>0.0036</td>\n",
              "      <td>583.236127</td>\n",
              "      <td>70</td>\n",
              "      <td>0.333333</td>\n",
              "      <td>0</td>\n",
              "      <td>0</td>\n",
              "      <td>0</td>\n",
              "    </tr>\n",
              "    <tr>\n",
              "      <th>1</th>\n",
              "      <td>1</td>\n",
              "      <td>urban</td>\n",
              "      <td>4</td>\n",
              "      <td>0.99</td>\n",
              "      <td>35</td>\n",
              "      <td>daylight</td>\n",
              "      <td>clear</td>\n",
              "      <td>True</td>\n",
              "      <td>False</td>\n",
              "      <td>evening</td>\n",
              "      <td>...</td>\n",
              "      <td>True</td>\n",
              "      <td>0</td>\n",
              "      <td>0.35</td>\n",
              "      <td>0.9801</td>\n",
              "      <td>35.353178</td>\n",
              "      <td>140</td>\n",
              "      <td>0.000000</td>\n",
              "      <td>0</td>\n",
              "      <td>0</td>\n",
              "      <td>0</td>\n",
              "    </tr>\n",
              "    <tr>\n",
              "      <th>2</th>\n",
              "      <td>2</td>\n",
              "      <td>rural</td>\n",
              "      <td>4</td>\n",
              "      <td>0.63</td>\n",
              "      <td>70</td>\n",
              "      <td>dim</td>\n",
              "      <td>clear</td>\n",
              "      <td>False</td>\n",
              "      <td>True</td>\n",
              "      <td>morning</td>\n",
              "      <td>...</td>\n",
              "      <td>False</td>\n",
              "      <td>2</td>\n",
              "      <td>0.30</td>\n",
              "      <td>0.3969</td>\n",
              "      <td>111.109347</td>\n",
              "      <td>280</td>\n",
              "      <td>0.400000</td>\n",
              "      <td>0</td>\n",
              "      <td>0</td>\n",
              "      <td>0</td>\n",
              "    </tr>\n",
              "    <tr>\n",
              "      <th>3</th>\n",
              "      <td>3</td>\n",
              "      <td>highway</td>\n",
              "      <td>4</td>\n",
              "      <td>0.07</td>\n",
              "      <td>35</td>\n",
              "      <td>dim</td>\n",
              "      <td>rainy</td>\n",
              "      <td>True</td>\n",
              "      <td>True</td>\n",
              "      <td>morning</td>\n",
              "      <td>...</td>\n",
              "      <td>False</td>\n",
              "      <td>1</td>\n",
              "      <td>0.21</td>\n",
              "      <td>0.0049</td>\n",
              "      <td>499.928582</td>\n",
              "      <td>140</td>\n",
              "      <td>0.200000</td>\n",
              "      <td>0</td>\n",
              "      <td>0</td>\n",
              "      <td>0</td>\n",
              "    </tr>\n",
              "    <tr>\n",
              "      <th>4</th>\n",
              "      <td>4</td>\n",
              "      <td>rural</td>\n",
              "      <td>1</td>\n",
              "      <td>0.58</td>\n",
              "      <td>60</td>\n",
              "      <td>daylight</td>\n",
              "      <td>foggy</td>\n",
              "      <td>False</td>\n",
              "      <td>False</td>\n",
              "      <td>evening</td>\n",
              "      <td>...</td>\n",
              "      <td>False</td>\n",
              "      <td>1</td>\n",
              "      <td>0.56</td>\n",
              "      <td>0.3364</td>\n",
              "      <td>103.446492</td>\n",
              "      <td>60</td>\n",
              "      <td>0.500000</td>\n",
              "      <td>0</td>\n",
              "      <td>0</td>\n",
              "      <td>0</td>\n",
              "    </tr>\n",
              "  </tbody>\n",
              "</table>\n",
              "<p>5 rows × 21 columns</p>\n",
              "</div>\n",
              "    <div class=\"colab-df-buttons\">\n",
              "\n",
              "  <div class=\"colab-df-container\">\n",
              "    <button class=\"colab-df-convert\" onclick=\"convertToInteractive('df-e3f40278-0fc1-4704-94c8-e92de15c3f42')\"\n",
              "            title=\"Convert this dataframe to an interactive table.\"\n",
              "            style=\"display:none;\">\n",
              "\n",
              "  <svg xmlns=\"http://www.w3.org/2000/svg\" height=\"24px\" viewBox=\"0 -960 960 960\">\n",
              "    <path d=\"M120-120v-720h720v720H120Zm60-500h600v-160H180v160Zm220 220h160v-160H400v160Zm0 220h160v-160H400v160ZM180-400h160v-160H180v160Zm440 0h160v-160H620v160ZM180-180h160v-160H180v160Zm440 0h160v-160H620v160Z\"/>\n",
              "  </svg>\n",
              "    </button>\n",
              "\n",
              "  <style>\n",
              "    .colab-df-container {\n",
              "      display:flex;\n",
              "      gap: 12px;\n",
              "    }\n",
              "\n",
              "    .colab-df-convert {\n",
              "      background-color: #E8F0FE;\n",
              "      border: none;\n",
              "      border-radius: 50%;\n",
              "      cursor: pointer;\n",
              "      display: none;\n",
              "      fill: #1967D2;\n",
              "      height: 32px;\n",
              "      padding: 0 0 0 0;\n",
              "      width: 32px;\n",
              "    }\n",
              "\n",
              "    .colab-df-convert:hover {\n",
              "      background-color: #E2EBFA;\n",
              "      box-shadow: 0px 1px 2px rgba(60, 64, 67, 0.3), 0px 1px 3px 1px rgba(60, 64, 67, 0.15);\n",
              "      fill: #174EA6;\n",
              "    }\n",
              "\n",
              "    .colab-df-buttons div {\n",
              "      margin-bottom: 4px;\n",
              "    }\n",
              "\n",
              "    [theme=dark] .colab-df-convert {\n",
              "      background-color: #3B4455;\n",
              "      fill: #D2E3FC;\n",
              "    }\n",
              "\n",
              "    [theme=dark] .colab-df-convert:hover {\n",
              "      background-color: #434B5C;\n",
              "      box-shadow: 0px 1px 3px 1px rgba(0, 0, 0, 0.15);\n",
              "      filter: drop-shadow(0px 1px 2px rgba(0, 0, 0, 0.3));\n",
              "      fill: #FFFFFF;\n",
              "    }\n",
              "  </style>\n",
              "\n",
              "    <script>\n",
              "      const buttonEl =\n",
              "        document.querySelector('#df-e3f40278-0fc1-4704-94c8-e92de15c3f42 button.colab-df-convert');\n",
              "      buttonEl.style.display =\n",
              "        google.colab.kernel.accessAllowed ? 'block' : 'none';\n",
              "\n",
              "      async function convertToInteractive(key) {\n",
              "        const element = document.querySelector('#df-e3f40278-0fc1-4704-94c8-e92de15c3f42');\n",
              "        const dataTable =\n",
              "          await google.colab.kernel.invokeFunction('convertToInteractive',\n",
              "                                                    [key], {});\n",
              "        if (!dataTable) return;\n",
              "\n",
              "        const docLinkHtml = 'Like what you see? Visit the ' +\n",
              "          '<a target=\"_blank\" href=https://colab.research.google.com/notebooks/data_table.ipynb>data table notebook</a>'\n",
              "          + ' to learn more about interactive tables.';\n",
              "        element.innerHTML = '';\n",
              "        dataTable['output_type'] = 'display_data';\n",
              "        await google.colab.output.renderOutput(dataTable, element);\n",
              "        const docLink = document.createElement('div');\n",
              "        docLink.innerHTML = docLinkHtml;\n",
              "        element.appendChild(docLink);\n",
              "      }\n",
              "    </script>\n",
              "  </div>\n",
              "\n",
              "\n",
              "    <div id=\"df-d30cb816-e1c4-49d2-9916-76cc51db46ae\">\n",
              "      <button class=\"colab-df-quickchart\" onclick=\"quickchart('df-d30cb816-e1c4-49d2-9916-76cc51db46ae')\"\n",
              "                title=\"Suggest charts\"\n",
              "                style=\"display:none;\">\n",
              "\n",
              "<svg xmlns=\"http://www.w3.org/2000/svg\" height=\"24px\"viewBox=\"0 0 24 24\"\n",
              "     width=\"24px\">\n",
              "    <g>\n",
              "        <path d=\"M19 3H5c-1.1 0-2 .9-2 2v14c0 1.1.9 2 2 2h14c1.1 0 2-.9 2-2V5c0-1.1-.9-2-2-2zM9 17H7v-7h2v7zm4 0h-2V7h2v10zm4 0h-2v-4h2v4z\"/>\n",
              "    </g>\n",
              "</svg>\n",
              "      </button>\n",
              "\n",
              "<style>\n",
              "  .colab-df-quickchart {\n",
              "      --bg-color: #E8F0FE;\n",
              "      --fill-color: #1967D2;\n",
              "      --hover-bg-color: #E2EBFA;\n",
              "      --hover-fill-color: #174EA6;\n",
              "      --disabled-fill-color: #AAA;\n",
              "      --disabled-bg-color: #DDD;\n",
              "  }\n",
              "\n",
              "  [theme=dark] .colab-df-quickchart {\n",
              "      --bg-color: #3B4455;\n",
              "      --fill-color: #D2E3FC;\n",
              "      --hover-bg-color: #434B5C;\n",
              "      --hover-fill-color: #FFFFFF;\n",
              "      --disabled-bg-color: #3B4455;\n",
              "      --disabled-fill-color: #666;\n",
              "  }\n",
              "\n",
              "  .colab-df-quickchart {\n",
              "    background-color: var(--bg-color);\n",
              "    border: none;\n",
              "    border-radius: 50%;\n",
              "    cursor: pointer;\n",
              "    display: none;\n",
              "    fill: var(--fill-color);\n",
              "    height: 32px;\n",
              "    padding: 0;\n",
              "    width: 32px;\n",
              "  }\n",
              "\n",
              "  .colab-df-quickchart:hover {\n",
              "    background-color: var(--hover-bg-color);\n",
              "    box-shadow: 0 1px 2px rgba(60, 64, 67, 0.3), 0 1px 3px 1px rgba(60, 64, 67, 0.15);\n",
              "    fill: var(--button-hover-fill-color);\n",
              "  }\n",
              "\n",
              "  .colab-df-quickchart-complete:disabled,\n",
              "  .colab-df-quickchart-complete:disabled:hover {\n",
              "    background-color: var(--disabled-bg-color);\n",
              "    fill: var(--disabled-fill-color);\n",
              "    box-shadow: none;\n",
              "  }\n",
              "\n",
              "  .colab-df-spinner {\n",
              "    border: 2px solid var(--fill-color);\n",
              "    border-color: transparent;\n",
              "    border-bottom-color: var(--fill-color);\n",
              "    animation:\n",
              "      spin 1s steps(1) infinite;\n",
              "  }\n",
              "\n",
              "  @keyframes spin {\n",
              "    0% {\n",
              "      border-color: transparent;\n",
              "      border-bottom-color: var(--fill-color);\n",
              "      border-left-color: var(--fill-color);\n",
              "    }\n",
              "    20% {\n",
              "      border-color: transparent;\n",
              "      border-left-color: var(--fill-color);\n",
              "      border-top-color: var(--fill-color);\n",
              "    }\n",
              "    30% {\n",
              "      border-color: transparent;\n",
              "      border-left-color: var(--fill-color);\n",
              "      border-top-color: var(--fill-color);\n",
              "      border-right-color: var(--fill-color);\n",
              "    }\n",
              "    40% {\n",
              "      border-color: transparent;\n",
              "      border-right-color: var(--fill-color);\n",
              "      border-top-color: var(--fill-color);\n",
              "    }\n",
              "    60% {\n",
              "      border-color: transparent;\n",
              "      border-right-color: var(--fill-color);\n",
              "    }\n",
              "    80% {\n",
              "      border-color: transparent;\n",
              "      border-right-color: var(--fill-color);\n",
              "      border-bottom-color: var(--fill-color);\n",
              "    }\n",
              "    90% {\n",
              "      border-color: transparent;\n",
              "      border-bottom-color: var(--fill-color);\n",
              "    }\n",
              "  }\n",
              "</style>\n",
              "\n",
              "      <script>\n",
              "        async function quickchart(key) {\n",
              "          const quickchartButtonEl =\n",
              "            document.querySelector('#' + key + ' button');\n",
              "          quickchartButtonEl.disabled = true;  // To prevent multiple clicks.\n",
              "          quickchartButtonEl.classList.add('colab-df-spinner');\n",
              "          try {\n",
              "            const charts = await google.colab.kernel.invokeFunction(\n",
              "                'suggestCharts', [key], {});\n",
              "          } catch (error) {\n",
              "            console.error('Error during call to suggestCharts:', error);\n",
              "          }\n",
              "          quickchartButtonEl.classList.remove('colab-df-spinner');\n",
              "          quickchartButtonEl.classList.add('colab-df-quickchart-complete');\n",
              "        }\n",
              "        (() => {\n",
              "          let quickchartButtonEl =\n",
              "            document.querySelector('#df-d30cb816-e1c4-49d2-9916-76cc51db46ae button');\n",
              "          quickchartButtonEl.style.display =\n",
              "            google.colab.kernel.accessAllowed ? 'block' : 'none';\n",
              "        })();\n",
              "      </script>\n",
              "    </div>\n",
              "\n",
              "    </div>\n",
              "  </div>\n"
            ],
            "application/vnd.google.colaboratory.intrinsic+json": {
              "type": "dataframe",
              "variable_name": "df_train"
            }
          },
          "metadata": {},
          "execution_count": 51
        }
      ]
    },
    {
      "cell_type": "code",
      "source": [
        "# 1. 数値変換・組み合わせ\n",
        "for df in [df_train, df_test]:\n",
        "    df['curvature_squared'] = df['curvature'] ** 2\n",
        "    df['speed_curvature_ratio'] = df['speed_limit'] / (df['curvature'] + 1e-5)\n",
        "    df['lanes_speed'] = df['num_lanes'] * df['speed_limit']\n",
        "    df['accidents_per_lane'] = df['num_reported_accidents'] / (df['num_lanes']+1)\n",
        "\n",
        "# 3. 夜間かつ照明が悪い場所\n",
        "for df in [df_train, df_test]:\n",
        "    df['night_dark'] = ((df['time_of_day']=='evening') & (df['lighting']=='night')).astype(int)\n",
        "\n",
        "# 4. 休日・学期・夜間の組み合わせ\n",
        "for df in [df_train, df_test]:\n",
        "    df['holiday_night'] = ((df['holiday']==1) & (df['lighting']=='night')).astype(int)\n",
        "    df['school_season_night'] = ((df['school_season']==0) & (df['lighting']=='night')).astype(int)\n"
      ],
      "metadata": {
        "id": "VuV77GVcaA0_"
      },
      "execution_count": null,
      "outputs": []
    },
    {
      "cell_type": "markdown",
      "source": [
        "### モデル作成：LGBM"
      ],
      "metadata": {
        "id": "0tMhtT6wA-2V"
      }
    },
    {
      "cell_type": "code",
      "source": [
        "# 文字列型（object型）のカラムを取得\n",
        "cat_cols = df_train.select_dtypes(include=[\"object\"]).columns.tolist()\n",
        "\n",
        "# LightGBM が扱えるように型を category に変換\n",
        "for col in cat_cols:\n",
        "    df_train[col] = df_train[col].astype(\"category\")\n",
        "    df_test[col] = df_test[col].astype(\"category\")"
      ],
      "metadata": {
        "id": "jgCSlidCt7ql"
      },
      "execution_count": null,
      "outputs": []
    },
    {
      "cell_type": "code",
      "source": [
        "df_train.info()"
      ],
      "metadata": {
        "colab": {
          "base_uri": "https://localhost:8080/"
        },
        "id": "4H9Ee2UuvYoa",
        "outputId": "98f0ea60-7ded-4275-df61-6ea5835c9135"
      },
      "execution_count": null,
      "outputs": [
        {
          "output_type": "stream",
          "name": "stdout",
          "text": [
            "<class 'pandas.core.frame.DataFrame'>\n",
            "RangeIndex: 517754 entries, 0 to 517753\n",
            "Data columns (total 21 columns):\n",
            " #   Column                  Non-Null Count   Dtype   \n",
            "---  ------                  --------------   -----   \n",
            " 0   id                      517754 non-null  int64   \n",
            " 1   road_type               517754 non-null  category\n",
            " 2   num_lanes               517754 non-null  int64   \n",
            " 3   curvature               517754 non-null  float64 \n",
            " 4   speed_limit             517754 non-null  int64   \n",
            " 5   lighting                517754 non-null  category\n",
            " 6   weather                 517754 non-null  category\n",
            " 7   road_signs_present      517754 non-null  bool    \n",
            " 8   public_road             517754 non-null  bool    \n",
            " 9   time_of_day             517754 non-null  category\n",
            " 10  holiday                 517754 non-null  bool    \n",
            " 11  school_season           517754 non-null  bool    \n",
            " 12  num_reported_accidents  517754 non-null  int64   \n",
            " 13  accident_risk           517754 non-null  float64 \n",
            " 14  curvature_squared       517754 non-null  float64 \n",
            " 15  speed_curvature_ratio   517754 non-null  float64 \n",
            " 16  lanes_speed             517754 non-null  int64   \n",
            " 17  accidents_per_lane      517754 non-null  float64 \n",
            " 18  night_dark              517754 non-null  int64   \n",
            " 19  holiday_night           517754 non-null  int64   \n",
            " 20  school_season_night     517754 non-null  int64   \n",
            "dtypes: bool(4), category(4), float64(5), int64(8)\n",
            "memory usage: 55.3 MB\n"
          ]
        }
      ]
    },
    {
      "cell_type": "code",
      "source": [
        "# 特徴量と目的変数を設定\n",
        "target_col = \"accident_risk\"\n",
        "exclude_cols = [target_col, \"id\"]\n",
        "feature_cols = [c for c in df_train.columns if c not in exclude_cols]\n",
        "\n",
        "X = df_train[feature_cols]\n",
        "y = df_train[target_col]"
      ],
      "metadata": {
        "id": "fmeeZP4AuBZz"
      },
      "execution_count": null,
      "outputs": []
    },
    {
      "cell_type": "code",
      "source": [
        "# --- fold ごとのモデルを保存するリスト ---\n",
        "models = []\n",
        "\n",
        "# クロスバリデーションの設定\n",
        "kf = KFold(n_splits=5, shuffle=True, random_state=42)\n",
        "oof_preds = []\n",
        "oof_y = []\n",
        "\n",
        "for fold, (train_idx, valid_idx) in enumerate(kf.split(X, y)):\n",
        "    print(f\"=== Fold {fold + 1} ===\")\n",
        "\n",
        "    X_train, X_valid = X.iloc[train_idx], X.iloc[valid_idx]\n",
        "    y_train, y_valid = y.iloc[train_idx], y.iloc[valid_idx]\n",
        "\n",
        "    model = lgb.LGBMRegressor(\n",
        "        objective=\"regression\",\n",
        "        n_estimators=1000,\n",
        "        learning_rate=0.05,\n",
        "        random_state=42\n",
        "    )\n",
        "\n",
        "    # コールバックで early stopping を指定\n",
        "    callbacks = [\n",
        "        lgb.early_stopping(stopping_rounds=50),\n",
        "        lgb.log_evaluation(period=100)  # 100イテごとにログ出力\n",
        "    ]\n",
        "\n",
        "    model.fit(\n",
        "        X_train, y_train,\n",
        "        eval_set=[(X_valid, y_valid)],\n",
        "        categorical_feature=\"auto\",  # カテゴリ列は自動認識\n",
        "        callbacks=callbacks\n",
        "    )\n",
        "\n",
        "    # foldごとのモデルを保存\n",
        "    models.append(model)\n",
        "\n",
        "    preds = model.predict(X_valid, num_iteration=model.best_iteration_)\n",
        "    oof_preds.extend(preds)\n",
        "    oof_y.extend(y_valid)"
      ],
      "metadata": {
        "colab": {
          "base_uri": "https://localhost:8080/"
        },
        "id": "LwQ0Fpe6HI-s",
        "outputId": "1e2abad3-4075-4909-d86a-76ead8189b01"
      },
      "execution_count": null,
      "outputs": [
        {
          "output_type": "stream",
          "name": "stdout",
          "text": [
            "=== Fold 1 ===\n",
            "[LightGBM] [Info] Auto-choosing col-wise multi-threading, the overhead of testing was 0.188291 seconds.\n",
            "You can set `force_col_wise=true` to remove the overhead.\n",
            "[LightGBM] [Info] Total Bins 588\n",
            "[LightGBM] [Info] Number of data points in the train set: 414203, number of used features: 19\n",
            "[LightGBM] [Info] Start training from score 0.352605\n",
            "Training until validation scores don't improve for 50 rounds\n",
            "[100]\tvalid_0's l2: 0.00319843\n",
            "[200]\tvalid_0's l2: 0.00317498\n",
            "[300]\tvalid_0's l2: 0.00317006\n",
            "[400]\tvalid_0's l2: 0.00316713\n",
            "[500]\tvalid_0's l2: 0.00316578\n",
            "[600]\tvalid_0's l2: 0.00316524\n",
            "[700]\tvalid_0's l2: 0.00316498\n",
            "Early stopping, best iteration is:\n",
            "[652]\tvalid_0's l2: 0.00316485\n",
            "=== Fold 2 ===\n",
            "[LightGBM] [Info] Auto-choosing row-wise multi-threading, the overhead of testing was 0.037823 seconds.\n",
            "You can set `force_row_wise=true` to remove the overhead.\n",
            "And if memory is not enough, you can set `force_col_wise=true`.\n",
            "[LightGBM] [Info] Total Bins 588\n",
            "[LightGBM] [Info] Number of data points in the train set: 414203, number of used features: 19\n",
            "[LightGBM] [Info] Start training from score 0.352104\n",
            "Training until validation scores don't improve for 50 rounds\n",
            "[100]\tvalid_0's l2: 0.00318197\n",
            "[200]\tvalid_0's l2: 0.00315965\n",
            "[300]\tvalid_0's l2: 0.00315598\n",
            "[400]\tvalid_0's l2: 0.00315326\n",
            "[500]\tvalid_0's l2: 0.00315205\n",
            "[600]\tvalid_0's l2: 0.00315152\n",
            "[700]\tvalid_0's l2: 0.00315112\n",
            "Early stopping, best iteration is:\n",
            "[655]\tvalid_0's l2: 0.003151\n",
            "=== Fold 3 ===\n",
            "[LightGBM] [Info] Auto-choosing row-wise multi-threading, the overhead of testing was 0.038490 seconds.\n",
            "You can set `force_row_wise=true` to remove the overhead.\n",
            "And if memory is not enough, you can set `force_col_wise=true`.\n",
            "[LightGBM] [Info] Total Bins 601\n",
            "[LightGBM] [Info] Number of data points in the train set: 414203, number of used features: 19\n",
            "[LightGBM] [Info] Start training from score 0.352272\n",
            "Training until validation scores don't improve for 50 rounds\n",
            "[100]\tvalid_0's l2: 0.00318613\n",
            "[200]\tvalid_0's l2: 0.0031629\n",
            "[300]\tvalid_0's l2: 0.00315866\n",
            "[400]\tvalid_0's l2: 0.00315694\n",
            "[500]\tvalid_0's l2: 0.00315672\n",
            "Early stopping, best iteration is:\n",
            "[473]\tvalid_0's l2: 0.00315656\n",
            "=== Fold 4 ===\n",
            "[LightGBM] [Info] Auto-choosing row-wise multi-threading, the overhead of testing was 0.037308 seconds.\n",
            "You can set `force_row_wise=true` to remove the overhead.\n",
            "And if memory is not enough, you can set `force_col_wise=true`.\n",
            "[LightGBM] [Info] Total Bins 604\n",
            "[LightGBM] [Info] Number of data points in the train set: 414203, number of used features: 19\n",
            "[LightGBM] [Info] Start training from score 0.352472\n",
            "Training until validation scores don't improve for 50 rounds\n",
            "[100]\tvalid_0's l2: 0.00316973\n",
            "[200]\tvalid_0's l2: 0.00314709\n",
            "[300]\tvalid_0's l2: 0.00314254\n",
            "[400]\tvalid_0's l2: 0.00314007\n",
            "[500]\tvalid_0's l2: 0.00313893\n",
            "[600]\tvalid_0's l2: 0.00313836\n",
            "[700]\tvalid_0's l2: 0.00313786\n",
            "[800]\tvalid_0's l2: 0.00313748\n",
            "[900]\tvalid_0's l2: 0.00313739\n",
            "Early stopping, best iteration is:\n",
            "[878]\tvalid_0's l2: 0.0031372\n",
            "=== Fold 5 ===\n",
            "[LightGBM] [Info] Auto-choosing col-wise multi-threading, the overhead of testing was 0.144263 seconds.\n",
            "You can set `force_col_wise=true` to remove the overhead.\n",
            "[LightGBM] [Info] Total Bins 594\n",
            "[LightGBM] [Info] Number of data points in the train set: 414204, number of used features: 19\n",
            "[LightGBM] [Info] Start training from score 0.352433\n",
            "Training until validation scores don't improve for 50 rounds\n",
            "[100]\tvalid_0's l2: 0.00316679\n",
            "[200]\tvalid_0's l2: 0.00314316\n",
            "[300]\tvalid_0's l2: 0.00313705\n",
            "[400]\tvalid_0's l2: 0.00313408\n",
            "[500]\tvalid_0's l2: 0.00313347\n",
            "[600]\tvalid_0's l2: 0.00313294\n",
            "Early stopping, best iteration is:\n",
            "[563]\tvalid_0's l2: 0.00313267\n"
          ]
        }
      ]
    },
    {
      "cell_type": "code",
      "source": [
        "rmse = np.sqrt(mean_squared_error(oof_y, oof_preds))\n",
        "print(f\"CV RMSE: {rmse:.5f}\")"
      ],
      "metadata": {
        "colab": {
          "base_uri": "https://localhost:8080/"
        },
        "id": "ZKX8CGVKNWZ5",
        "outputId": "26c767ac-6131-4b22-e575-770e3f97acb5"
      },
      "execution_count": null,
      "outputs": [
        {
          "output_type": "stream",
          "name": "stdout",
          "text": [
            "CV RMSE: 0.05611\n"
          ]
        }
      ]
    },
    {
      "cell_type": "code",
      "source": [
        "# --- 特徴量重要度（foldごとの平均） ---\n",
        "feature_importance = pd.DataFrame()\n",
        "\n",
        "for i, model in enumerate(models):\n",
        "    fi = pd.DataFrame({\n",
        "        \"feature\": feature_cols,\n",
        "        \"importance\": model.feature_importances_,\n",
        "        \"fold\": i\n",
        "    })\n",
        "    feature_importance = pd.concat([feature_importance, fi], axis=0)\n",
        "\n",
        "# foldごとに平均した重要度でソートして表示\n",
        "plt.figure(figsize=(8,5))\n",
        "sns.barplot(\n",
        "    x=\"importance\",\n",
        "    y=\"feature\",\n",
        "    data=feature_importance.groupby(\"feature\")[\"importance\"].mean().reset_index()\n",
        "    .sort_values(by=\"importance\", ascending=False)\n",
        ")\n",
        "plt.title(\"Feature Importance (avg over folds)\")\n",
        "plt.show()"
      ],
      "metadata": {
        "colab": {
          "base_uri": "https://localhost:8080/",
          "height": 360
        },
        "id": "rJ_2TzGZQ03I",
        "outputId": "998ba1a2-dbbe-4871-838a-ddf51452c4c6"
      },
      "execution_count": null,
      "outputs": [
        {
          "output_type": "display_data",
          "data": {
            "text/plain": [
              "<Figure size 800x500 with 1 Axes>"
            ],
            "image/png": "[encoded data removed]"
          },
          "metadata": {}
        }
      ]
    },
    {
      "cell_type": "markdown",
      "source": [
        "テスト"
      ],
      "metadata": {
        "id": "VuW2mYFHE5r5"
      }
    },
    {
      "cell_type": "code",
      "source": [
        "# ---- test データ予測（各foldモデルの平均） ----\n",
        "X_test = df_test[feature_cols]\n",
        "y_pred_test = np.mean([model.predict(X_test) for model in models], axis=0)\n",
        "\n",
        "df_output = pd.DataFrame({\n",
        "    \"id\": df_test[\"id\"],\n",
        "    \"accident_risk\": y_pred_test\n",
        "})\n",
        "df_output.to_csv(\"prar_vol4.csv\", index=False)\n",
        "print(\"prar_vol4.csv に予測値を出力しました\")\n"
      ],
      "metadata": {
        "colab": {
          "base_uri": "https://localhost:8080/"
        },
        "id": "IQTVA6hMGGZ2",
        "outputId": "ea25bfc5-f703-4e9a-dcc9-2a4d8e43817a"
      },
      "execution_count": null,
      "outputs": [
        {
          "output_type": "stream",
          "name": "stdout",
          "text": [
            "prar_vol4.csv に予測値を出力しました\n"
          ]
        }
      ]
    }
  ]
}